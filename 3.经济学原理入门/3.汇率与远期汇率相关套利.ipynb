{
 "cells": [
  {
   "cell_type": "markdown",
   "metadata": {
    "collapsed": true,
    "pycharm": {
     "name": "#%% md\n"
    }
   },
   "source": [
    "升贴水是什么？\n",
    "升水（Premium）\n",
    "贴水（Discount）\n",
    "\n",
    "1.S_0 +(-) f = F\n",
    "2.{S_0 +(-) f}/S_0"
   ]
  },
  {
   "cell_type": "code",
   "execution_count": 2,
   "outputs": [
    {
     "name": "stdout",
     "output_type": "stream",
     "text": [
      "1.23388\n"
     ]
    }
   ],
   "source": [
    "spot_rate = input(\"Please enter the spot rate:\")\n",
    "# 市场上会提供一系列的bid-ask spread(pips)\n",
    "#  spot 1.234/1.345\n",
    "#  30-day -1.2/ -1.1(forward discount)\n",
    "#  60-day -10.2/ -10.1(forward discount)\n",
    "#  90-day -20.2/ -20.1(forward discount)\n",
    "forward_rate = input(\"Please enter the forward quotes:\")\n",
    "\n",
    "all_in_FR = float(spot_rate) + float(forward_rate)/10000\n",
    "\n",
    "print(all_in_FR)"
   ],
   "metadata": {
    "collapsed": false,
    "pycharm": {
     "name": "#%%\n"
    }
   }
  },
  {
   "cell_type": "markdown",
   "source": [
    "MTM（Mark to Market）市场价\n",
    "\n",
    "\n",
    "F_0 :0时刻签订了一份3个月到期的远期合约\n",
    "F_T ：T=3 ，三个月到期这一天的远期合约价格\n",
    "\n",
    "F_T = S_T\n",
    "\n",
    "\n",
    "思考模型：反向对冲合约\n",
    "\n",
    "\n",
    "$$ V_T = (FP_T-FP_0)(contract\\;size)$$\n"
   ],
   "metadata": {
    "collapsed": false,
    "pycharm": {
     "name": "#%% md\n"
    }
   }
  },
  {
   "cell_type": "markdown",
   "source": [
    "假设你是一家国际对冲基金经理，你在0时刻签订了一份合约：\n",
    "short CHF 200 m against USD 0.9832(USD/CHF),90天后交割\n",
    "60天的时候，我们BOSS需要对你现在持有的这份合约进行估值。\n",
    "\n",
    "60天当天市场的报价：\n",
    "USD/CHF\n",
    "spot 0.9817/0.9821\n",
    "30-day -7.6/-6.9\n",
    "60-day -16.3/-12.1\n",
    "90-day -25.4/21.2\n",
    "\n",
    "60天当天的利率市场报价：\n",
    "\n",
    "30-day  USD： 0.20%  CHF： 0.91%\n",
    "60-day  USD： 0.21%  CHF： 0.92%\n",
    "90-day  USD： 0.23%  CHF： 0.93%\n"
   ],
   "metadata": {
    "collapsed": false,
    "pycharm": {
     "name": "#%% md\n"
    }
   }
  }
 ],
 "metadata": {
  "kernelspec": {
   "display_name": "Python 3",
   "language": "python",
   "name": "python3"
  },
  "language_info": {
   "codemirror_mode": {
    "name": "ipython",
    "version": 2
   },
   "file_extension": ".py",
   "mimetype": "text/x-python",
   "name": "python",
   "nbconvert_exporter": "python",
   "pygments_lexer": "ipython2",
   "version": "2.7.6"
  }
 },
 "nbformat": 4,
 "nbformat_minor": 0
}