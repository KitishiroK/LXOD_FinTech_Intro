{
 "cells": [
  {
   "cell_type": "markdown",
   "metadata": {
    "collapsed": true,
    "pycharm": {
     "name": "#%% md\n"
    }
   },
   "source": [
    "Created by william from lexueoude.com. 更多正版技术视频讲解，公众号 1.乐学偶得（lexueoude）2.乐学FinTech (LoveShareFinTech)\n",
    "\n",
    "\n",
    "跨国套利\n",
    "\n",
    "理论基础：\n",
    "\n",
    "$$ S_0 = DC/FC $$ <br>\n",
    "$$ F_0 = DC_0/FC_0 $$\n",
    "\n",
    "1.本国的情况1--------1(1+r_DC)<br>\n",
    "2.外国的情况1/S_0----1/S_0(1+r_FC)\n",
    "3.在0时刻的时候锁定换汇价格F_0)"
   ]
  }
 ],
 "metadata": {
  "kernelspec": {
   "display_name": "Python 3",
   "language": "python",
   "name": "python3"
  },
  "language_info": {
   "codemirror_mode": {
    "name": "ipython",
    "version": 2
   },
   "file_extension": ".py",
   "mimetype": "text/x-python",
   "name": "python",
   "nbconvert_exporter": "python",
   "pygments_lexer": "ipython2",
   "version": "2.7.6"
  }
 },
 "nbformat": 4,
 "nbformat_minor": 0
}