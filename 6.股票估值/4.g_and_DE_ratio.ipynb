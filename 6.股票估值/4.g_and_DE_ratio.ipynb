{
 "cells": [
  {
   "cell_type": "markdown",
   "metadata": {
    "collapsed": true,
    "pycharm": {
     "name": "#%% md\n"
    }
   },
   "source": [
    "g(Sustainable growth rate ）\n",
    "为可持续增长率恒定的几点推论\n",
    "$$g = ROE * b $$\n",
    "如果g恒定，ROE 与 b 也恒定\n",
    "\n"
   ]
  },
  {
   "cell_type": "markdown",
   "source": [
    "补充PRAT\n",
    "\n",
    "【P】Profit Margin 【R】Retention rate【A】Asset turnover rate【T】?Total Financial Leverage\n",
    "\n",
    "$$g = 1 * ROE * b $$ <br>\n",
    "$$g = \\frac{NI}{Sales} * \\frac{Sales}{Assets} * \\frac{Assets}{Equity} * \\frac{NI-D}{NI} $$\n",
    "\n",
    "$$P0 = \\frac{D_1}{r-g} $$\n",
    "$$P1 = \\frac{D_1 *(1+g)}{r-g} $$"
   ],
   "metadata": {
    "collapsed": false,
    "pycharm": {
     "name": "#%% md\n"
    }
   }
  }
 ],
 "metadata": {
  "kernelspec": {
   "name": "pycharm-9607c1d0",
   "language": "python",
   "display_name": "PyCharm (sklearn)"
  },
  "language_info": {
   "codemirror_mode": {
    "name": "ipython",
    "version": 2
   },
   "file_extension": ".py",
   "mimetype": "text/x-python",
   "name": "python",
   "nbconvert_exporter": "python",
   "pygments_lexer": "ipython2",
   "version": "2.7.6"
  }
 },
 "nbformat": 4,
 "nbformat_minor": 0
}