{
 "cells": [
  {
   "cell_type": "markdown",
   "metadata": {},
   "source": [
    "比如说现在有一家A公司，它的Debt-Equity Ratio是1.6，但是因为我们拿一家相似的公司C公司进行研究，这家相似的公司C公司的Debt-Equity ratio是1.4，因为这家相似公司是一家上市公司，每天有涨跌数据，于是我们可以通过回归的方法想其收益数据与大盘的收益数据进行回归，得出相似公司的β为1.5，假设边际税率为31%的情况下，现在A公司的β是多少呢？"
   ]
  },
  {
   "cell_type": "markdown",
   "metadata": {},
   "source": [
    "$\\beta_{TargetCompany}=(1+（1-r_{tax}）\\frac{D_T}{E_T})\\times(\\frac{1}{1+(1-r_{tax})\\frac{D_C}{E_C}})\\times\\beta_{comparable}$"
   ]
  },
  {
   "cell_type": "code",
   "execution_count": 9,
   "metadata": {},
   "outputs": [
    {
     "name": "stdout",
     "output_type": "stream",
     "text": [
      "0.7629704984740591\n"
     ]
    },
    {
     "data": {
      "text/plain": [
       "1.6052899287894205"
      ]
     },
     "execution_count": 9,
     "metadata": {},
     "output_type": "execute_result"
    }
   ],
   "source": [
    "def calculate_target_company_beta(tax,Target_DE_ratio,Comparable_DE_ratio,Comparable_Beta):\n",
    "    Unlevered_Beta=Comparable_Beta/(1+(1-tax)*Comparable_DE_ratio)\n",
    "#     print(Unlevered_Beta)\n",
    "    Target_Beta=(1+(1-tax)*Target_DE_ratio)*Unlevered_Beta\n",
    "    return Target_Beta\n",
    "calculate_target_company_beta(0.31,1.6,1.4,1.5)"
   ]
  },
  {
   "cell_type": "code",
   "execution_count": null,
   "metadata": {},
   "outputs": [],
   "source": []
  }
 ],
 "metadata": {
  "kernelspec": {
   "display_name": "Python 3",
   "language": "python",
   "name": "python3"
  },
  "language_info": {
   "codemirror_mode": {
    "name": "ipython",
    "version": 3
   },
   "file_extension": ".py",
   "mimetype": "text/x-python",
   "name": "python",
   "nbconvert_exporter": "python",
   "pygments_lexer": "ipython3",
   "version": "3.7.2"
  }
 },
 "nbformat": 4,
 "nbformat_minor": 2
}
